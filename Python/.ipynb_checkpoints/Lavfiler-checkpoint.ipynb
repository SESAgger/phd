{
 "cells": [
  {
   "cell_type": "code",
   "execution_count": 3,
   "metadata": {},
   "outputs": [
    {
     "name": "stdout",
     "output_type": "stream",
     "text": [
      "QJ-1615-CFA006591_S9_L006\n",
      "QJ-1615-CFA007614_S11_L007\n",
      "QJ-1615-CFA008068_S12_L008\n",
      "QJ-1615-CFA008193_S2_L001\n",
      "QJ-1615-CFA008402_S5_L003\n",
      "QJ-1615-CFA008433_S3_L002\n",
      "QJ-1615-CFA008455_S5_L003\n",
      "QJ-1615-CFA008473_S6_L003\n",
      "QJ-1615-CFA008491_S10_L007\n",
      "QJ-1615-CFA008537_S7_L005\n",
      "QJ-1615-CFA008582_S8_L006\n",
      "QJ-1615-CFA008731_S3_L002\n",
      "QJ-1615-CFA009017_S1_L001\n",
      "QJ-1615-CFA009192_S2_L002\n",
      "QJ-1615-CFA009655_S4_L003\n",
      "QJ-1615-CFA009786_S4_L002\n",
      "QJ-1615-CFA009911_S13_L008\n",
      "QJ-1615-CFA010674_S8_L004\n",
      "QJ-1615-CFA010766_S7_L004\n"
     ]
    }
   ],
   "source": [
    "import os\n",
    "name=\"fcr_vs_both\"\n",
    "pth = '/proj/uppstore2017228/KLT.05.GRUS/sophieflatr/newrun/cnv/recalibratedbams/cases/' \n",
    "#insert path to files\n",
    "gen=\"abcb1\" #set to relevant gene\n",
    "i=0\n",
    "j=0\n",
    "k=0\n",
    "filer=[]\n",
    "\n",
    "lfil=open('templatefile.txt','r')\n",
    "liste=lfil.readlines()#q\n",
    "\n",
    "tfil=open(name+'.txt')\n",
    "template=tfil.readlines()#a\n",
    "\n",
    "\n",
    "\n",
    "while i < len(liste):\n",
    "    sti=liste[i].replace('\\n','')\n",
    "    i+=1\n",
    "    isample=str(sti).find('STED_')\n",
    "    navn=str(sti)[isample+1:isample+28]\n",
    "    filnavn=navn+gen+'.sh'\n",
    "    print(navn)\n",
    "    nyfil=open(filnavn,\"w\")\n",
    "    for j in range(len(template)):\n",
    "        nyline=template[j].replace('NAME1',pth+navn+'.recalibrated.bam')\n",
    "        nyline=nyline.replace('NAME2',pth+navn+gen+'.bam')\n",
    "        #print(nyline)\n",
    "        nyline=nyline.replace('PATH',pth+sti[3:])\n",
    "        nyline=nyline.replace('NAME3',navn)\n",
    "        nyfil.write(nyline)\n",
    "        j+=1\n",
    "    nyfil.close()\n",
    "    filer.append(filnavn)\n",
    "w=open('ny'+gen+'.sh','w')\n",
    "w.write('''#!/bin/bash -l\n",
    "# NOTE the -l flag!\n",
    "\n",
    "#SBATCH -J J_ny\n",
    "#SBATCH -o O_ny\n",
    "#SBATCH -e E_ny\n",
    "#SBATCH -t 00:02:00\n",
    "#SBATCH -A snic2017-7-384\n",
    "#SBATCH -p devcore -n 1\n",
    "#Mail updates when job starts and finishes\n",
    "#SBATCH --mail-user sophie.agger@imbim.uu.se\n",
    "#SBATCH --mail-type=ALL\n",
    "''')\n",
    "while k<len(filer):\n",
    "    if gen in filer[k]:\n",
    "        w.write('sbatch ' + filer[k] + '\\n \\n')\n",
    "\n",
    "    k+=1\n",
    "w.close()\n"
   ]
  },
  {
   "cell_type": "code",
   "execution_count": null,
   "metadata": {},
   "outputs": [],
   "source": []
  }
 ],
 "metadata": {
  "kernelspec": {
   "display_name": "Python 3",
   "language": "python",
   "name": "python3"
  },
  "language_info": {
   "codemirror_mode": {
    "name": "ipython",
    "version": 3
   },
   "file_extension": ".py",
   "mimetype": "text/x-python",
   "name": "python",
   "nbconvert_exporter": "python",
   "pygments_lexer": "ipython3",
   "version": "3.8.2"
  }
 },
 "nbformat": 4,
 "nbformat_minor": 4
}
